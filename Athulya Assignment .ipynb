{
 "cells": [
  {
   "cell_type": "code",
   "execution_count": 27,
   "id": "4e24dd16",
   "metadata": {},
   "outputs": [
    {
     "name": "stdout",
     "output_type": "stream",
     "text": [
      "[100, 101, 102, 103, 104, 105, 106, 107, 108, 109, 110, 111, 112, 113, 114, 115, 116, 117, 118, 119, 120, 121, 122, 123, 124, 125, 126, 127, 128, 129, 130, 131, 132, 133, 134, 135, 136, 137, 138, 139, 140, 141, 142, 143, 144, 145, 146, 147, 148, 149, 150, 151, 152, 153, 154, 155, 156, 157, 158, 159, 160, 161, 162, 163, 164, 165, 166, 167, 168, 169, 170, 171, 172, 173, 174, 175, 176, 177, 178, 179, 180, 181, 182, 183, 184, 185, 186, 187, 188, 189, 190, 191, 192, 193, 194, 195, 196, 197, 198, 199, 200, 201, 202, 203, 204, 205, 206, 207, 208, 209, 210, 211, 212, 213, 214, 215, 216, 217, 218, 219, 220, 221, 222, 223, 224, 225, 226, 227, 228, 229, 230, 231, 232, 233, 234, 235, 236, 237, 238, 239, 240, 241, 242, 243, 244, 245, 246, 247, 248, 249, 250, 251, 252, 253, 254, 255, 256, 257, 258, 259, 260, 261, 262, 263, 264, 265, 266, 267, 268, 269, 270, 271, 272, 273, 274, 275, 276, 277, 278, 279, 280, 281, 282, 283, 284, 285, 286, 287, 288, 289, 290, 291, 292, 293, 294, 295, 296, 297, 298, 299, 300, 301, 302, 303, 304, 305, 306, 307, 308, 309, 310, 311, 312, 313, 314, 315, 316, 317, 318, 319, 320, 321, 322, 323, 324, 325, 326, 327, 328, 329, 330, 331, 332, 333, 334, 335, 336, 337, 338, 339, 340, 341, 342, 343, 344, 345, 346, 347, 348, 349, 350, 351, 352, 353, 354, 355, 356, 357, 358, 359, 360, 361, 362, 363, 364, 365, 366, 367, 368, 369, 370, 371, 372, 373, 374, 375, 376, 377, 378, 379, 380, 381, 382, 383, 384, 385, 386, 387, 388, 389, 390, 391, 392, 393, 394, 395, 396, 397, 398, 399, 400]\n",
      "200\n",
      "202\n",
      "204\n",
      "206\n",
      "208\n",
      "220\n",
      "222\n",
      "224\n",
      "226\n",
      "228\n",
      "240\n",
      "242\n",
      "244\n",
      "246\n",
      "248\n",
      "260\n",
      "262\n",
      "264\n",
      "266\n",
      "268\n",
      "280\n",
      "282\n",
      "284\n",
      "286\n",
      "288\n",
      "400\n"
     ]
    }
   ],
   "source": [
    "# Problem No 2. Write a Python program to find numbers between 100 and 400 (both included) where each digit of a number is an even number. The numbers obtained should be printed in a comma-separated sequence.\n",
    "# 200,202,204,206,208,220,222,224,226,228,240,242,244,246,248,260,262,264,266,268,280,282,284,286,288,400\n",
    "\n",
    "\n",
    "a = list(range(100, 401, 1))\n",
    "print(a)\n",
    "for x in a:\n",
    "    if int(str(x)[0])%2==0 and int(str(x)[1])%2==0 and int(str(x)[2])%2==0:\n",
    "     print(x)"
   ]
  },
  {
   "cell_type": "code",
   "execution_count": 98,
   "id": "98a4a79c",
   "metadata": {},
   "outputs": [
    {
     "name": "stdout",
     "output_type": "stream",
     "text": [
      "The Original string is athulya_prakash\n",
      "The New string is hsakarp_ayluhtah\n"
     ]
    }
   ],
   "source": [
    "# Problem No 7. Write a Python program to reverse a string.\n",
    "# The original string is: 1234abcd\n",
    "# The reversed string: dcba4321\n",
    "\n",
    "\n",
    "a = \"athulya_prakash\"\n",
    "b = \"\"\n",
    "for i in range(0, len(a)+1):\n",
    "    b+=a[(len(a)-1)-i]\n",
    "print(f\"The Original string is {a}\")\n",
    "print(f\"The New string is {b}\")\n",
    "    "
   ]
  },
  {
   "cell_type": "code",
   "execution_count": 43,
   "id": "e2f5e97d",
   "metadata": {},
   "outputs": [
    {
     "name": "stdout",
     "output_type": "stream",
     "text": [
      "Enter your dog's age in Human years please: 20\n",
      "Your dog's age is 93\n"
     ]
    }
   ],
   "source": [
    "# Problem No 3. Write a Python program to calculate a dog's age in dog's years. Go to the editor\n",
    "# Note: For the first two years, a dog year is equal to 10.5 human years. After that, each dog year equals 4 human years.\n",
    "# Input a dog's age in human years: 20\n",
    "# The dog's age in dog's years is 93\n",
    "\n",
    "x = int(input(\"Enter your dog's age in Human years please: \"))\n",
    "if x == 1:\n",
    "    print(f\"Your dog's age is 10 Years and 6 Months\")\n",
    "if x == 2:\n",
    "    print(f\"Your dog's age is 21 Years\")\n",
    "else: \n",
    "    print(f\"Your dog's age is {21 + 4*(x-2)}\")\n",
    "\n",
    "\n",
    "\n"
   ]
  },
  {
   "cell_type": "code",
   "execution_count": 53,
   "id": "48e86c27",
   "metadata": {},
   "outputs": [
    {
     "name": "stdout",
     "output_type": "stream",
     "text": [
      "The max number is 6\n"
     ]
    }
   ],
   "source": [
    "# Problem No 4. Write a Python function to find the Max of three numbers.\n",
    "# The Three numbers are: (3, 6, -5)\n",
    "# 6\n",
    "\n",
    "def f(x,y,z):\n",
    "    if x > y and x > z:\n",
    "        print(f\"The max number is {x}\")\n",
    "    if y >x and y > z:\n",
    "        print(f\"The max number is {y}\")\n",
    "    if z > x and z > y: \n",
    "        print(f\"The max number is {z}\")\n",
    "f(3,6,-5)"
   ]
  },
  {
   "cell_type": "code",
   "execution_count": 73,
   "id": "11a77330",
   "metadata": {},
   "outputs": [
    {
     "name": "stdout",
     "output_type": "stream",
     "text": [
      "The number is: 1063\n",
      "1063 is a prime number\n"
     ]
    }
   ],
   "source": [
    "# Problem No 5. Write a Python function that takes a number as a parameter and check the number is prime or not.\n",
    "# The number is: 9\n",
    "# False\n",
    "\n",
    "def prime_func(x):    \n",
    "    print(f\"The number is: {x}\")\n",
    "    n = 0\n",
    "    for i in range(2, x, 1):\n",
    "        if x%i==0:\n",
    "            n+=1\n",
    "    if n!=0:\n",
    "        print(f\"{x} is not a prime number\")\n",
    "    else:\n",
    "        print(f\"{x} is a prime number\")\n",
    "    \n",
    "prime_func(1063)            \n",
    "\n",
    "    "
   ]
  },
  {
   "cell_type": "code",
   "execution_count": 93,
   "id": "f1b7a4f0",
   "metadata": {},
   "outputs": [
    {
     "name": "stdout",
     "output_type": "stream",
     "text": [
      "The No. of Upper case characters : 13\n",
      "The No. of Lower case characters : 32\n"
     ]
    }
   ],
   "source": [
    "# Problem No 6. Write a Python function that accepts a string and calculate the number of upper case letters and lower case letters. Go to the editor\n",
    "# Original String :  Inceptz is One of The BeSt Places TO LEarn DataSciEnce\n",
    "# No. of Upper case characters :  13\n",
    "# No. of Lower case Characters :  32\n",
    "\n",
    "U = 0\n",
    "L = 0\n",
    "a = \"Inceptz is One of The BeSt Places TO LEarn DataSciEnce\"\n",
    "b = a.replace(\" \",\"\")\n",
    "b\n",
    "for i in range(0, len(b)):\n",
    "    if b[i] == b[i].lower():\n",
    "        L+=1\n",
    "    else:\n",
    "        U+=1\n",
    "print(f\"The No. of Upper case characters : {U}\")\n",
    "print(f\"The No. of Lower case characters : {L}\")\n",
    "     \n",
    "\n",
    "\n"
   ]
  },
  {
   "cell_type": "code",
   "execution_count": 94,
   "id": "40d1b4c9",
   "metadata": {},
   "outputs": [
    {
     "name": "stdout",
     "output_type": "stream",
     "text": [
      "The first number is: 100\n",
      "The second number is: 150\n",
      "[1, 2, 5, 10, 25, 50]\n",
      "The GCD of the numbers are: 50\n"
     ]
    }
   ],
   "source": [
    "# Problem No 8. Write a Python program to find the greatest common divisor (gcd) of two integers.\n",
    "# The two numbers are: (12, 14)\n",
    "# The GCD of the numbers are: 2\n",
    "\n",
    "x = int(input(\"The first number is: \"))\n",
    "y = int(input(\"The second number is: \"))\n",
    "z = []\n",
    "for i in range (1, min(x,y)+1, 1):\n",
    "    if x%i==0 and y%i==0:\n",
    "        z.append(i)\n",
    "print(z)        \n",
    "print(f\"The GCD of the numbers are: {max(z)}\")\n",
    "    \n",
    "    "
   ]
  },
  {
   "cell_type": "code",
   "execution_count": 95,
   "id": "e81649fb",
   "metadata": {},
   "outputs": [
    {
     "name": "stdout",
     "output_type": "stream",
     "text": [
      "Number of even numbers : 7\n",
      "Number of odd numbers : 6\n"
     ]
    }
   ],
   "source": [
    "# Problem No 1. Write a Python program to count the number of even and odd numbers from a series of numbers.\n",
    "# Number of even numbers : 4\n",
    "# Number of odd numbers : 5\n",
    "\n",
    "a = [23,42,7,8,9,4,56,667,24,44,65,58,89]\n",
    "e = 0\n",
    "o = 0\n",
    "for i in a:\n",
    "    if i%2 == 0:\n",
    "        e+=1\n",
    "    else:\n",
    "        o+=1\n",
    "print(f\"Number of even numbers : {e}\")\n",
    "print(f\"Number of odd numbers : {o}\")\n"
   ]
  },
  {
   "cell_type": "code",
   "execution_count": null,
   "id": "33cdadcb",
   "metadata": {},
   "outputs": [],
   "source": []
  }
 ],
 "metadata": {
  "kernelspec": {
   "display_name": "Python 3 (ipykernel)",
   "language": "python",
   "name": "python3"
  },
  "language_info": {
   "codemirror_mode": {
    "name": "ipython",
    "version": 3
   },
   "file_extension": ".py",
   "mimetype": "text/x-python",
   "name": "python",
   "nbconvert_exporter": "python",
   "pygments_lexer": "ipython3",
   "version": "3.11.4"
  }
 },
 "nbformat": 4,
 "nbformat_minor": 5
}
